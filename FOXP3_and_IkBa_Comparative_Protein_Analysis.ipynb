{
  "nbformat": 4,
  "nbformat_minor": 0,
  "metadata": {
    "colab": {
      "provenance": [],
      "authorship_tag": "ABX9TyOziDwgpuISQh3rDyTgU0dx",
      "include_colab_link": true
    },
    "kernelspec": {
      "name": "python3",
      "display_name": "Python 3"
    },
    "language_info": {
      "name": "python"
    }
  },
  "cells": [
    {
      "cell_type": "markdown",
      "metadata": {
        "id": "view-in-github",
        "colab_type": "text"
      },
      "source": [
        "<a href=\"https://colab.research.google.com/github/hema-comp-bio/foxp3-vs-ikba-comparative-analysis/blob/main/FOXP3_and_IkBa_Comparative_Protein_Analysis.ipynb\" target=\"_parent\"><img src=\"https://colab.research.google.com/assets/colab-badge.svg\" alt=\"Open In Colab\"/></a>"
      ]
    },
    {
      "cell_type": "code",
      "execution_count": 2,
      "metadata": {
        "colab": {
          "base_uri": "https://localhost:8080/",
          "height": 72
        },
        "id": "PTmmozWl0x9b",
        "outputId": "b3eb2c54-cf99-4010-c601-634ec70850c1"
      },
      "outputs": [
        {
          "output_type": "display_data",
          "data": {
            "text/plain": [
              "<IPython.core.display.HTML object>"
            ],
            "text/html": [
              "\n",
              "     <input type=\"file\" id=\"files-97c8eb9f-70e8-4ddc-be6c-93c59a0b3b81\" name=\"files[]\" multiple disabled\n",
              "        style=\"border:none\" />\n",
              "     <output id=\"result-97c8eb9f-70e8-4ddc-be6c-93c59a0b3b81\">\n",
              "      Upload widget is only available when the cell has been executed in the\n",
              "      current browser session. Please rerun this cell to enable.\n",
              "      </output>\n",
              "      <script>// Copyright 2017 Google LLC\n",
              "//\n",
              "// Licensed under the Apache License, Version 2.0 (the \"License\");\n",
              "// you may not use this file except in compliance with the License.\n",
              "// You may obtain a copy of the License at\n",
              "//\n",
              "//      http://www.apache.org/licenses/LICENSE-2.0\n",
              "//\n",
              "// Unless required by applicable law or agreed to in writing, software\n",
              "// distributed under the License is distributed on an \"AS IS\" BASIS,\n",
              "// WITHOUT WARRANTIES OR CONDITIONS OF ANY KIND, either express or implied.\n",
              "// See the License for the specific language governing permissions and\n",
              "// limitations under the License.\n",
              "\n",
              "/**\n",
              " * @fileoverview Helpers for google.colab Python module.\n",
              " */\n",
              "(function(scope) {\n",
              "function span(text, styleAttributes = {}) {\n",
              "  const element = document.createElement('span');\n",
              "  element.textContent = text;\n",
              "  for (const key of Object.keys(styleAttributes)) {\n",
              "    element.style[key] = styleAttributes[key];\n",
              "  }\n",
              "  return element;\n",
              "}\n",
              "\n",
              "// Max number of bytes which will be uploaded at a time.\n",
              "const MAX_PAYLOAD_SIZE = 100 * 1024;\n",
              "\n",
              "function _uploadFiles(inputId, outputId) {\n",
              "  const steps = uploadFilesStep(inputId, outputId);\n",
              "  const outputElement = document.getElementById(outputId);\n",
              "  // Cache steps on the outputElement to make it available for the next call\n",
              "  // to uploadFilesContinue from Python.\n",
              "  outputElement.steps = steps;\n",
              "\n",
              "  return _uploadFilesContinue(outputId);\n",
              "}\n",
              "\n",
              "// This is roughly an async generator (not supported in the browser yet),\n",
              "// where there are multiple asynchronous steps and the Python side is going\n",
              "// to poll for completion of each step.\n",
              "// This uses a Promise to block the python side on completion of each step,\n",
              "// then passes the result of the previous step as the input to the next step.\n",
              "function _uploadFilesContinue(outputId) {\n",
              "  const outputElement = document.getElementById(outputId);\n",
              "  const steps = outputElement.steps;\n",
              "\n",
              "  const next = steps.next(outputElement.lastPromiseValue);\n",
              "  return Promise.resolve(next.value.promise).then((value) => {\n",
              "    // Cache the last promise value to make it available to the next\n",
              "    // step of the generator.\n",
              "    outputElement.lastPromiseValue = value;\n",
              "    return next.value.response;\n",
              "  });\n",
              "}\n",
              "\n",
              "/**\n",
              " * Generator function which is called between each async step of the upload\n",
              " * process.\n",
              " * @param {string} inputId Element ID of the input file picker element.\n",
              " * @param {string} outputId Element ID of the output display.\n",
              " * @return {!Iterable<!Object>} Iterable of next steps.\n",
              " */\n",
              "function* uploadFilesStep(inputId, outputId) {\n",
              "  const inputElement = document.getElementById(inputId);\n",
              "  inputElement.disabled = false;\n",
              "\n",
              "  const outputElement = document.getElementById(outputId);\n",
              "  outputElement.innerHTML = '';\n",
              "\n",
              "  const pickedPromise = new Promise((resolve) => {\n",
              "    inputElement.addEventListener('change', (e) => {\n",
              "      resolve(e.target.files);\n",
              "    });\n",
              "  });\n",
              "\n",
              "  const cancel = document.createElement('button');\n",
              "  inputElement.parentElement.appendChild(cancel);\n",
              "  cancel.textContent = 'Cancel upload';\n",
              "  const cancelPromise = new Promise((resolve) => {\n",
              "    cancel.onclick = () => {\n",
              "      resolve(null);\n",
              "    };\n",
              "  });\n",
              "\n",
              "  // Wait for the user to pick the files.\n",
              "  const files = yield {\n",
              "    promise: Promise.race([pickedPromise, cancelPromise]),\n",
              "    response: {\n",
              "      action: 'starting',\n",
              "    }\n",
              "  };\n",
              "\n",
              "  cancel.remove();\n",
              "\n",
              "  // Disable the input element since further picks are not allowed.\n",
              "  inputElement.disabled = true;\n",
              "\n",
              "  if (!files) {\n",
              "    return {\n",
              "      response: {\n",
              "        action: 'complete',\n",
              "      }\n",
              "    };\n",
              "  }\n",
              "\n",
              "  for (const file of files) {\n",
              "    const li = document.createElement('li');\n",
              "    li.append(span(file.name, {fontWeight: 'bold'}));\n",
              "    li.append(span(\n",
              "        `(${file.type || 'n/a'}) - ${file.size} bytes, ` +\n",
              "        `last modified: ${\n",
              "            file.lastModifiedDate ? file.lastModifiedDate.toLocaleDateString() :\n",
              "                                    'n/a'} - `));\n",
              "    const percent = span('0% done');\n",
              "    li.appendChild(percent);\n",
              "\n",
              "    outputElement.appendChild(li);\n",
              "\n",
              "    const fileDataPromise = new Promise((resolve) => {\n",
              "      const reader = new FileReader();\n",
              "      reader.onload = (e) => {\n",
              "        resolve(e.target.result);\n",
              "      };\n",
              "      reader.readAsArrayBuffer(file);\n",
              "    });\n",
              "    // Wait for the data to be ready.\n",
              "    let fileData = yield {\n",
              "      promise: fileDataPromise,\n",
              "      response: {\n",
              "        action: 'continue',\n",
              "      }\n",
              "    };\n",
              "\n",
              "    // Use a chunked sending to avoid message size limits. See b/62115660.\n",
              "    let position = 0;\n",
              "    do {\n",
              "      const length = Math.min(fileData.byteLength - position, MAX_PAYLOAD_SIZE);\n",
              "      const chunk = new Uint8Array(fileData, position, length);\n",
              "      position += length;\n",
              "\n",
              "      const base64 = btoa(String.fromCharCode.apply(null, chunk));\n",
              "      yield {\n",
              "        response: {\n",
              "          action: 'append',\n",
              "          file: file.name,\n",
              "          data: base64,\n",
              "        },\n",
              "      };\n",
              "\n",
              "      let percentDone = fileData.byteLength === 0 ?\n",
              "          100 :\n",
              "          Math.round((position / fileData.byteLength) * 100);\n",
              "      percent.textContent = `${percentDone}% done`;\n",
              "\n",
              "    } while (position < fileData.byteLength);\n",
              "  }\n",
              "\n",
              "  // All done.\n",
              "  yield {\n",
              "    response: {\n",
              "      action: 'complete',\n",
              "    }\n",
              "  };\n",
              "}\n",
              "\n",
              "scope.google = scope.google || {};\n",
              "scope.google.colab = scope.google.colab || {};\n",
              "scope.google.colab._files = {\n",
              "  _uploadFiles,\n",
              "  _uploadFilesContinue,\n",
              "};\n",
              "})(self);\n",
              "</script> "
            ]
          },
          "metadata": {}
        },
        {
          "output_type": "stream",
          "name": "stdout",
          "text": [
            "Saving foxp3.fasta.txt to foxp3.fasta.txt\n"
          ]
        }
      ],
      "source": [
        "from google.colab import files\n",
        "uploaded = files.upload()\n"
      ]
    },
    {
      "cell_type": "markdown",
      "source": [
        "**protein** **foxp3** -"
      ],
      "metadata": {
        "id": "Sh2IuRrNq-0L"
      }
    },
    {
      "cell_type": "code",
      "source": [
        "!pip install biopython\n"
      ],
      "metadata": {
        "colab": {
          "base_uri": "https://localhost:8080/",
          "height": 0
        },
        "id": "26p0KyxU09T1",
        "outputId": "939266dc-39e4-4689-9f7d-125d9aba061e"
      },
      "execution_count": 3,
      "outputs": [
        {
          "output_type": "stream",
          "name": "stdout",
          "text": [
            "Collecting biopython\n",
            "  Downloading biopython-1.85-cp311-cp311-manylinux_2_17_x86_64.manylinux2014_x86_64.whl.metadata (13 kB)\n",
            "Requirement already satisfied: numpy in /usr/local/lib/python3.11/dist-packages (from biopython) (2.0.2)\n",
            "Downloading biopython-1.85-cp311-cp311-manylinux_2_17_x86_64.manylinux2014_x86_64.whl (3.3 MB)\n",
            "\u001b[?25l   \u001b[90m━━━━━━━━━━━━━━━━━━━━━━━━━━━━━━━━━━━━━━━━\u001b[0m \u001b[32m0.0/3.3 MB\u001b[0m \u001b[31m?\u001b[0m eta \u001b[36m-:--:--\u001b[0m\r\u001b[2K   \u001b[91m━━━━━━━━━━━━━━━━━━━\u001b[0m\u001b[90m╺\u001b[0m\u001b[90m━━━━━━━━━━━━━━━━━━━━\u001b[0m \u001b[32m1.6/3.3 MB\u001b[0m \u001b[31m47.4 MB/s\u001b[0m eta \u001b[36m0:00:01\u001b[0m\r\u001b[2K   \u001b[90m━━━━━━━━━━━━━━━━━━━━━━━━━━━━━━━━━━━━━━━━\u001b[0m \u001b[32m3.3/3.3 MB\u001b[0m \u001b[31m49.7 MB/s\u001b[0m eta \u001b[36m0:00:00\u001b[0m\n",
            "\u001b[?25hInstalling collected packages: biopython\n",
            "Successfully installed biopython-1.85\n"
          ]
        }
      ]
    },
    {
      "cell_type": "code",
      "source": [
        "from Bio import SeqIO"
      ],
      "metadata": {
        "id": "JvtLPCJL1GMW"
      },
      "execution_count": 4,
      "outputs": []
    },
    {
      "cell_type": "code",
      "source": [
        "record = SeqIO.read(\"foxp3.fasta.txt\", \"fasta\")"
      ],
      "metadata": {
        "id": "oqivCSJC1Li3"
      },
      "execution_count": 5,
      "outputs": []
    },
    {
      "cell_type": "markdown",
      "source": [
        "**protein** **foxp3** **information** -"
      ],
      "metadata": {
        "id": "az4U81bbrRJv"
      }
    },
    {
      "cell_type": "code",
      "source": [
        "sequence = str(record.seq)\n",
        "\n",
        "print(\"Sequence ID:\", record.id)\n",
        "print(\"Sequence Length:\", len(sequence), \"amino acids\")\n",
        "print(\"First 60 residues:\", sequence[:60])"
      ],
      "metadata": {
        "colab": {
          "base_uri": "https://localhost:8080/",
          "height": 0
        },
        "id": "1hGswo1d1TzT",
        "outputId": "3143c8c8-17a9-4f84-d648-673bd6c48a82"
      },
      "execution_count": 6,
      "outputs": [
        {
          "output_type": "stream",
          "name": "stdout",
          "text": [
            "Sequence ID: sp|Q9BZS1|FOXP3_HUMAN\n",
            "Sequence Length: 431 amino acids\n",
            "First 60 residues: MPNPRPGKPSAPSLALGPSPGASPSWRAAPKASDLLGARGPGGTFQGRDLRGGAHASSSS\n"
          ]
        }
      ]
    },
    {
      "cell_type": "markdown",
      "source": [
        "**general** **analysis** **of** **protein** **foxp3** -"
      ],
      "metadata": {
        "id": "53B-aN5orXjt"
      }
    },
    {
      "cell_type": "code",
      "source": [
        "from Bio.SeqUtils.ProtParam import ProteinAnalysis\n",
        "\n",
        "analysis = ProteinAnalysis(sequence)"
      ],
      "metadata": {
        "id": "dvR1B9gi04zz"
      },
      "execution_count": 9,
      "outputs": []
    },
    {
      "cell_type": "code",
      "source": [
        "#Amino Acid Composition\n",
        "aa_comp = analysis.amino_acids_percent\n",
        "for aa, freq in aa_comp.items():\n",
        "    print(f\"{aa}: {round(freq, 2)}%\")\n",
        "\n",
        "# Molecular Weight\n",
        "print(\"\\nMolecular Weight:\", round(analysis.molecular_weight(), 2), \"Da\")\n",
        "\n",
        "# Isoelectric Point\n",
        "print(\"Isoelectric Point (pI):\", round(analysis.isoelectric_point(), 2))\n",
        "\n"
      ],
      "metadata": {
        "colab": {
          "base_uri": "https://localhost:8080/",
          "height": 0
        },
        "id": "pXTJUjWX0l38",
        "outputId": "b2808519-09e2-4a14-d900-a4993e1c4589"
      },
      "execution_count": 12,
      "outputs": [
        {
          "output_type": "stream",
          "name": "stdout",
          "text": [
            "A: 9.74%\n",
            "C: 2.09%\n",
            "D: 2.78%\n",
            "E: 4.87%\n",
            "F: 4.18%\n",
            "G: 6.26%\n",
            "H: 3.94%\n",
            "I: 1.62%\n",
            "K: 4.64%\n",
            "L: 10.9%\n",
            "M: 2.55%\n",
            "N: 3.02%\n",
            "P: 11.14%\n",
            "Q: 4.18%\n",
            "R: 6.26%\n",
            "S: 9.28%\n",
            "T: 4.41%\n",
            "V: 5.1%\n",
            "W: 2.09%\n",
            "Y: 0.93%\n",
            "\n",
            "Molecular Weight: 47243.74 Da\n",
            "Isoelectric Point (pI): 9.52\n"
          ]
        }
      ]
    },
    {
      "cell_type": "markdown",
      "source": [
        "**aa** **composition** **plot** **for** **foxp3** -"
      ],
      "metadata": {
        "id": "AOGpiYj2rnf1"
      }
    },
    {
      "cell_type": "code",
      "source": [
        "import matplotlib.pyplot as plt\n",
        "import seaborn as sns\n",
        "import pandas as pd\n",
        "\n",
        "# Converting dictionary to DataFrame\n",
        "df = pd.DataFrame.from_dict(aa_comp, orient='index', columns=['Frequency'])\n",
        "df = df.sort_values('Frequency', ascending=False)\n",
        "\n",
        "# Plot\n",
        "plt.figure(figsize=(6,3))\n",
        "sns.barplot(\n",
        "    x=df.index,\n",
        "    y='Frequency',\n",
        "    data=df,\n",
        "    hue=df.index,\n",
        "    palette='viridis',\n",
        "    dodge=False,\n",
        "    legend=False\n",
        ")\n",
        "plt.title('Amino Acid Composition of FOXP3')\n",
        "plt.xlabel('Amino Acid')\n",
        "plt.ylabel('Relative Frequency (%)')\n",
        "plt.grid(True)\n",
        "plt.show()"
      ],
      "metadata": {
        "colab": {
          "base_uri": "https://localhost:8080/",
          "height": 333
        },
        "id": "d3ZD_xB77M5I",
        "outputId": "00aaee57-7333-4d35-c019-0cab118f0761"
      },
      "execution_count": 77,
      "outputs": [
        {
          "output_type": "display_data",
          "data": {
            "text/plain": [
              "<Figure size 600x300 with 1 Axes>"
            ],
            "image/png": "[encoded data removed]"
          },
          "metadata": {}
        }
      ]
    },
    {
      "cell_type": "markdown",
      "source": [
        "**locating** **motifs** **of** **foxp3** **protein** -"
      ],
      "metadata": {
        "id": "LwspGEO9rycj"
      }
    },
    {
      "cell_type": "code",
      "source": [
        "import re\n",
        "\n",
        "def find_kr_rich(seq): # NLS of foxp3\n",
        "    return [(m.group(), m.start()) for m in re.finditer(r\"[KR]{2,}\", seq)]\n",
        "\n",
        "kr_motifs = find_kr_rich(sequence)\n",
        "print(\"KR-rich Motifs (NLS sequences):\", kr_motifs)"
      ],
      "metadata": {
        "colab": {
          "base_uri": "https://localhost:8080/",
          "height": 0
        },
        "id": "HXheHLSO2Kts",
        "outputId": "7641744b-5b1d-4451-9792-687fdc557e78"
      },
      "execution_count": 18,
      "outputs": [
        {
          "output_type": "stream",
          "name": "stdout",
          "text": [
            "KR-rich Motifs (NLS sequences): [('RK', 177), ('RR', 308), ('RKKR', 413)]\n"
          ]
        }
      ]
    },
    {
      "cell_type": "code",
      "source": [
        "def find_st_rich(seq): #S/T rich motifs\n",
        "    return [(m.group(), m.start()) for m in re.finditer(r\"[ST]{3,}\", seq)]\n",
        "\n",
        "st_motifs = find_st_rich(sequence)\n",
        "print(\"S/T-rich motifs (phosphorylation sites):\", st_motifs)"
      ],
      "metadata": {
        "colab": {
          "base_uri": "https://localhost:8080/",
          "height": 0
        },
        "id": "Zy15zAvh4tEj",
        "outputId": "b94389c0-6c6e-46b5-9cdb-55b64e51a178"
      },
      "execution_count": 19,
      "outputs": [
        {
          "output_type": "stream",
          "name": "stdout",
          "text": [
            "S/T-rich motifs (phosphorylation sites): [('SSSS', 56)]\n"
          ]
        }
      ]
    },
    {
      "cell_type": "code",
      "source": [
        "def find_proline_motifs(seq): # Proline motifs\n",
        "    return [(m.group(), m.start()) for m in re.finditer(r\"P.{1,2}P\", seq)]\n",
        "\n",
        "proline_motifs = find_proline_motifs(sequence)\n",
        "print(\"Proline-rich motifs (PXP)/(PXXP):\", proline_motifs)"
      ],
      "metadata": {
        "colab": {
          "base_uri": "https://localhost:8080/",
          "height": 0
        },
        "id": "mD51Nr1L7BWa",
        "outputId": "78ed95ca-080e-477a-d1d3-66413f06e5fc"
      },
      "execution_count": 20,
      "outputs": [
        {
          "output_type": "stream",
          "name": "stdout",
          "text": [
            "Proline-rich motifs (PXP)/(PXXP): [('PNP', 1), ('PGKP', 5), ('PSP', 17), ('PMPP', 62), ('PTLP', 71), ('PLP', 87), ('PGLP', 146), ('PNP', 171), ('PVVP', 289), ('PTP', 426)]\n"
          ]
        }
      ]
    },
    {
      "cell_type": "code",
      "source": [
        "def find_rgg_motifs(seq): #RGG rich motifs\n",
        "    return [(m.group(), m.start()) for m in re.finditer(r\"[RG]{2,3}\", seq)]\n",
        "\n",
        "rgg_motifs = find_rgg_motifs(sequence)\n",
        "print(\"RGG/Arg-Gly-rich motifs:\", rgg_motifs)"
      ],
      "metadata": {
        "colab": {
          "base_uri": "https://localhost:8080/",
          "height": 0
        },
        "id": "VYx7BEUB7vQk",
        "outputId": "ff83ddc7-5871-41e5-aef2-5c621806e81b"
      },
      "execution_count": 21,
      "outputs": [
        {
          "output_type": "stream",
          "name": "stdout",
          "text": [
            "RGG/Arg-Gly-rich motifs: [('RG', 38), ('GG', 41), ('GR', 46), ('RGG', 50), ('GR', 227), ('RR', 308)]\n"
          ]
        }
      ]
    },
    {
      "cell_type": "code",
      "source": [
        "#Putative NES Motifs - Based on general hydrophobic residues\n",
        "def find_nes(seq):\n",
        "    return [(m.group(), m.start()) for m in re.finditer(r\"[LIVFM].{2,3}[LIVFM].{2,3}[LIVFM]\", seq)]\n",
        "\n",
        "nes_motifs = find_nes(sequence)\n",
        "print(\"Putative NES motifs:\", nes_motifs)"
      ],
      "metadata": {
        "colab": {
          "base_uri": "https://localhost:8080/",
          "height": 0
        },
        "id": "NTjIuILd8KCj",
        "outputId": "12d93641-dead-4296-8e81-f036b833d6d1"
      },
      "execution_count": 24,
      "outputs": [
        {
          "output_type": "stream",
          "name": "stdout",
          "text": [
            "Putative NES motifs: [('LPTLPLVM', 70), ('LGPLPHL', 85), ('FMHQLSTV', 101), ('VLQVHPL', 116), ('VASLEWV', 154), ('LQREMVQSL', 233), ('LSAMQAHL', 252), ('LFAVRRHL', 304), ('FPEFLHNM', 320), ('FHNMRPPF', 332), ('LNEIYHWF', 359), ('LHKCFVRV', 390), ('VWTVDEL', 404)]\n"
          ]
        }
      ]
    },
    {
      "cell_type": "code",
      "source": [
        "#Literature Based NES Motifs\n",
        "known_nes = ['QLQLPTL', 'QSLEQQL']\n",
        "\n",
        "for nes in known_nes:\n",
        "    if nes in sequence:\n",
        "        print(f\"Literature NES motifs found: {nes} at position {sequence.find(nes)}\")\n"
      ],
      "metadata": {
        "colab": {
          "base_uri": "https://localhost:8080/",
          "height": 0
        },
        "id": "k9wuM_Mp-2uL",
        "outputId": "15b9d3b1-8176-44a7-ef8d-b498ce710eda"
      },
      "execution_count": 26,
      "outputs": [
        {
          "output_type": "stream",
          "name": "stdout",
          "text": [
            "Literature NES motifs found: QLQLPTL at position 67\n",
            "Literature NES motifs found: QSLEQQL at position 239\n"
          ]
        }
      ]
    },
    {
      "cell_type": "code",
      "source": [
        "def find_lxxll(seq): # LXXLL seq\n",
        "    return [(m.group(), m.start()) for m in re.finditer(r\"L.{2}LL\", seq)]\n",
        "\n",
        "lxxll_motifs = find_lxxll(sequence)\n",
        "print(\"LXXLL motifs (receptor interaction):\", lxxll_motifs)"
      ],
      "metadata": {
        "colab": {
          "base_uri": "https://localhost:8080/",
          "height": 0
        },
        "id": "cy8YHSBE8bn2",
        "outputId": "3c6bc9bb-5c09-4507-ca52-6bca8b925f54"
      },
      "execution_count": 23,
      "outputs": [
        {
          "output_type": "stream",
          "name": "stdout",
          "text": [
            "LXXLL motifs (receptor interaction): [('LQALL', 91)]\n"
          ]
        }
      ]
    },
    {
      "cell_type": "markdown",
      "source": [
        "**forkhead** **domain** **of** **foxp3** -"
      ],
      "metadata": {
        "id": "5s6CQM2yr_cs"
      }
    },
    {
      "cell_type": "code",
      "source": [
        "# Forkhead (DNA-binding) domain: residues 337–421\n",
        "forkhead_domain = sequence[336:421]\n",
        "print(\"Forkhead (DNA-binding) domain of FOXP3:\")\n",
        "print(forkhead_domain)\n",
        "print(f\"\\nLength: {len(forkhead_domain)} amino acids\")"
      ],
      "metadata": {
        "colab": {
          "base_uri": "https://localhost:8080/",
          "height": 0
        },
        "id": "gRHMVR0XBDPp",
        "outputId": "867a04fd-5646-4665-9147-eac082e787ab"
      },
      "execution_count": 28,
      "outputs": [
        {
          "output_type": "stream",
          "name": "stdout",
          "text": [
            "Forkhead (DNA-binding) domain of FOXP3:\n",
            "RPPFTYATLIRWAILEAPEKQRTLNEIYHWFTRMFAFFRNHPATWKNAIRHNLSLHKCFVRVESEKGAVWTVDELEFRKKRSQRP\n",
            "\n",
            "Length: 85 amino acids\n"
          ]
        }
      ]
    },
    {
      "cell_type": "markdown",
      "source": [
        "**protein** **ikba** -"
      ],
      "metadata": {
        "id": "CSq0hLs9o9hx"
      }
    },
    {
      "cell_type": "code",
      "source": [
        "from google.colab import files\n",
        "uploaded = files.upload()"
      ],
      "metadata": {
        "colab": {
          "base_uri": "https://localhost:8080/",
          "height": 72
        },
        "id": "ZoxnfRcyaysf",
        "outputId": "ef56480c-1194-4401-e506-05a4614d5187"
      },
      "execution_count": 50,
      "outputs": [
        {
          "output_type": "display_data",
          "data": {
            "text/plain": [
              "<IPython.core.display.HTML object>"
            ],
            "text/html": [
              "\n",
              "     <input type=\"file\" id=\"files-df215a20-77a0-4f90-bb85-8de6951ddcdb\" name=\"files[]\" multiple disabled\n",
              "        style=\"border:none\" />\n",
              "     <output id=\"result-df215a20-77a0-4f90-bb85-8de6951ddcdb\">\n",
              "      Upload widget is only available when the cell has been executed in the\n",
              "      current browser session. Please rerun this cell to enable.\n",
              "      </output>\n",
              "      <script>// Copyright 2017 Google LLC\n",
              "//\n",
              "// Licensed under the Apache License, Version 2.0 (the \"License\");\n",
              "// you may not use this file except in compliance with the License.\n",
              "// You may obtain a copy of the License at\n",
              "//\n",
              "//      http://www.apache.org/licenses/LICENSE-2.0\n",
              "//\n",
              "// Unless required by applicable law or agreed to in writing, software\n",
              "// distributed under the License is distributed on an \"AS IS\" BASIS,\n",
              "// WITHOUT WARRANTIES OR CONDITIONS OF ANY KIND, either express or implied.\n",
              "// See the License for the specific language governing permissions and\n",
              "// limitations under the License.\n",
              "\n",
              "/**\n",
              " * @fileoverview Helpers for google.colab Python module.\n",
              " */\n",
              "(function(scope) {\n",
              "function span(text, styleAttributes = {}) {\n",
              "  const element = document.createElement('span');\n",
              "  element.textContent = text;\n",
              "  for (const key of Object.keys(styleAttributes)) {\n",
              "    element.style[key] = styleAttributes[key];\n",
              "  }\n",
              "  return element;\n",
              "}\n",
              "\n",
              "// Max number of bytes which will be uploaded at a time.\n",
              "const MAX_PAYLOAD_SIZE = 100 * 1024;\n",
              "\n",
              "function _uploadFiles(inputId, outputId) {\n",
              "  const steps = uploadFilesStep(inputId, outputId);\n",
              "  const outputElement = document.getElementById(outputId);\n",
              "  // Cache steps on the outputElement to make it available for the next call\n",
              "  // to uploadFilesContinue from Python.\n",
              "  outputElement.steps = steps;\n",
              "\n",
              "  return _uploadFilesContinue(outputId);\n",
              "}\n",
              "\n",
              "// This is roughly an async generator (not supported in the browser yet),\n",
              "// where there are multiple asynchronous steps and the Python side is going\n",
              "// to poll for completion of each step.\n",
              "// This uses a Promise to block the python side on completion of each step,\n",
              "// then passes the result of the previous step as the input to the next step.\n",
              "function _uploadFilesContinue(outputId) {\n",
              "  const outputElement = document.getElementById(outputId);\n",
              "  const steps = outputElement.steps;\n",
              "\n",
              "  const next = steps.next(outputElement.lastPromiseValue);\n",
              "  return Promise.resolve(next.value.promise).then((value) => {\n",
              "    // Cache the last promise value to make it available to the next\n",
              "    // step of the generator.\n",
              "    outputElement.lastPromiseValue = value;\n",
              "    return next.value.response;\n",
              "  });\n",
              "}\n",
              "\n",
              "/**\n",
              " * Generator function which is called between each async step of the upload\n",
              " * process.\n",
              " * @param {string} inputId Element ID of the input file picker element.\n",
              " * @param {string} outputId Element ID of the output display.\n",
              " * @return {!Iterable<!Object>} Iterable of next steps.\n",
              " */\n",
              "function* uploadFilesStep(inputId, outputId) {\n",
              "  const inputElement = document.getElementById(inputId);\n",
              "  inputElement.disabled = false;\n",
              "\n",
              "  const outputElement = document.getElementById(outputId);\n",
              "  outputElement.innerHTML = '';\n",
              "\n",
              "  const pickedPromise = new Promise((resolve) => {\n",
              "    inputElement.addEventListener('change', (e) => {\n",
              "      resolve(e.target.files);\n",
              "    });\n",
              "  });\n",
              "\n",
              "  const cancel = document.createElement('button');\n",
              "  inputElement.parentElement.appendChild(cancel);\n",
              "  cancel.textContent = 'Cancel upload';\n",
              "  const cancelPromise = new Promise((resolve) => {\n",
              "    cancel.onclick = () => {\n",
              "      resolve(null);\n",
              "    };\n",
              "  });\n",
              "\n",
              "  // Wait for the user to pick the files.\n",
              "  const files = yield {\n",
              "    promise: Promise.race([pickedPromise, cancelPromise]),\n",
              "    response: {\n",
              "      action: 'starting',\n",
              "    }\n",
              "  };\n",
              "\n",
              "  cancel.remove();\n",
              "\n",
              "  // Disable the input element since further picks are not allowed.\n",
              "  inputElement.disabled = true;\n",
              "\n",
              "  if (!files) {\n",
              "    return {\n",
              "      response: {\n",
              "        action: 'complete',\n",
              "      }\n",
              "    };\n",
              "  }\n",
              "\n",
              "  for (const file of files) {\n",
              "    const li = document.createElement('li');\n",
              "    li.append(span(file.name, {fontWeight: 'bold'}));\n",
              "    li.append(span(\n",
              "        `(${file.type || 'n/a'}) - ${file.size} bytes, ` +\n",
              "        `last modified: ${\n",
              "            file.lastModifiedDate ? file.lastModifiedDate.toLocaleDateString() :\n",
              "                                    'n/a'} - `));\n",
              "    const percent = span('0% done');\n",
              "    li.appendChild(percent);\n",
              "\n",
              "    outputElement.appendChild(li);\n",
              "\n",
              "    const fileDataPromise = new Promise((resolve) => {\n",
              "      const reader = new FileReader();\n",
              "      reader.onload = (e) => {\n",
              "        resolve(e.target.result);\n",
              "      };\n",
              "      reader.readAsArrayBuffer(file);\n",
              "    });\n",
              "    // Wait for the data to be ready.\n",
              "    let fileData = yield {\n",
              "      promise: fileDataPromise,\n",
              "      response: {\n",
              "        action: 'continue',\n",
              "      }\n",
              "    };\n",
              "\n",
              "    // Use a chunked sending to avoid message size limits. See b/62115660.\n",
              "    let position = 0;\n",
              "    do {\n",
              "      const length = Math.min(fileData.byteLength - position, MAX_PAYLOAD_SIZE);\n",
              "      const chunk = new Uint8Array(fileData, position, length);\n",
              "      position += length;\n",
              "\n",
              "      const base64 = btoa(String.fromCharCode.apply(null, chunk));\n",
              "      yield {\n",
              "        response: {\n",
              "          action: 'append',\n",
              "          file: file.name,\n",
              "          data: base64,\n",
              "        },\n",
              "      };\n",
              "\n",
              "      let percentDone = fileData.byteLength === 0 ?\n",
              "          100 :\n",
              "          Math.round((position / fileData.byteLength) * 100);\n",
              "      percent.textContent = `${percentDone}% done`;\n",
              "\n",
              "    } while (position < fileData.byteLength);\n",
              "  }\n",
              "\n",
              "  // All done.\n",
              "  yield {\n",
              "    response: {\n",
              "      action: 'complete',\n",
              "    }\n",
              "  };\n",
              "}\n",
              "\n",
              "scope.google = scope.google || {};\n",
              "scope.google.colab = scope.google.colab || {};\n",
              "scope.google.colab._files = {\n",
              "  _uploadFiles,\n",
              "  _uploadFilesContinue,\n",
              "};\n",
              "})(self);\n",
              "</script> "
            ]
          },
          "metadata": {}
        },
        {
          "output_type": "stream",
          "name": "stdout",
          "text": [
            "Saving ikba.fasta.txt to ikba.fasta.txt\n"
          ]
        }
      ]
    },
    {
      "cell_type": "code",
      "source": [
        "record = SeqIO.read(\"ikba.fasta.txt\", \"fasta\")"
      ],
      "metadata": {
        "id": "fPOG_1QcbK93"
      },
      "execution_count": 51,
      "outputs": []
    },
    {
      "cell_type": "markdown",
      "source": [
        "**ikba** **protein** **information** -"
      ],
      "metadata": {
        "id": "fvI7xcYfqG52"
      }
    },
    {
      "cell_type": "code",
      "source": [
        "sequence = str(record.seq)\n",
        "\n",
        "print(\"Sequence ID:\", record.id)\n",
        "print(\"Sequence Length:\", len(sequence), \"amino acids\")\n",
        "print(\"First 60 residues:\", sequence[:60])\n"
      ],
      "metadata": {
        "colab": {
          "base_uri": "https://localhost:8080/",
          "height": 0
        },
        "id": "RUeKD7LgbUdv",
        "outputId": "d9dd3696-9243-45ab-ea8f-e0d611fc6fb4"
      },
      "execution_count": 53,
      "outputs": [
        {
          "output_type": "stream",
          "name": "stdout",
          "text": [
            "Sequence ID: sp|P25963|IKBA_HUMAN\n",
            "Sequence Length: 317 amino acids\n",
            "First 60 residues: MFQAAERPQEWAMEGPRDGLKKERLLDDRHDSGLDSMKDEEYEQMVKELQEIRLEPQEVP\n"
          ]
        }
      ]
    },
    {
      "cell_type": "markdown",
      "source": [
        "**general** **analysis** **of** **protein** -"
      ],
      "metadata": {
        "id": "gEmoAL4wqXfM"
      }
    },
    {
      "cell_type": "code",
      "source": [
        "analysis = ProteinAnalysis(sequence)\n",
        "\n",
        "# Amino acid composition\n",
        "aa_comp = analysis.amino_acids_percent\n",
        "print(\"Amino acid composition (%):\")\n",
        "for aa, freq in aa_comp.items():\n",
        "    print(f\"{aa}: {round(freq, 2)}%\")\n",
        "\n",
        "# Molecular weight\n",
        "print(\"\\nMolecular Weight:\", round(analysis.molecular_weight(), 2), \"Da\")\n",
        "\n",
        "# Isoelectric point\n",
        "print(\"Isoelectric Point (pI):\", round(analysis.isoelectric_point(), 2))\n"
      ],
      "metadata": {
        "colab": {
          "base_uri": "https://localhost:8080/",
          "height": 0
        },
        "id": "WkuaXou6b8Xo",
        "outputId": "3d9ee64d-9f6a-435c-d4d1-d1bb0c0d61da"
      },
      "execution_count": 56,
      "outputs": [
        {
          "output_type": "stream",
          "name": "stdout",
          "text": [
            "Amino acid composition (%):\n",
            "A: 5.99%\n",
            "C: 2.52%\n",
            "D: 6.31%\n",
            "E: 10.09%\n",
            "F: 2.52%\n",
            "G: 6.94%\n",
            "H: 3.47%\n",
            "I: 3.15%\n",
            "K: 2.84%\n",
            "L: 14.51%\n",
            "M: 1.89%\n",
            "N: 3.79%\n",
            "P: 5.05%\n",
            "Q: 7.57%\n",
            "R: 4.42%\n",
            "S: 4.73%\n",
            "T: 5.99%\n",
            "V: 4.73%\n",
            "W: 0.95%\n",
            "Y: 2.52%\n",
            "\n",
            "Molecular Weight: 35608.53 Da\n",
            "Isoelectric Point (pI): 4.57\n"
          ]
        }
      ]
    },
    {
      "cell_type": "markdown",
      "source": [
        "**aa** **composition** **plot** **for** **ikba** -"
      ],
      "metadata": {
        "id": "N_l_Hd0dqm0K"
      }
    },
    {
      "cell_type": "code",
      "source": [
        "# Converting dictionary to DataFrame - ikba\n",
        "df = pd.DataFrame.from_dict(aa_comp, orient='index', columns=['Frequency'])\n",
        "df = df.sort_values('Frequency', ascending=False)\n",
        "\n",
        "# Plot - ikba\n",
        "plt.figure(figsize=(6,3))\n",
        "sns. barplot(\n",
        "    x=df.index,\n",
        "    y='Frequency',\n",
        "    data=df,\n",
        "    hue=df.index,\n",
        "    palette='viridis',\n",
        "    dodge=False,\n",
        "    legend=False\n",
        ")\n",
        "plt.title('Amino Acid Composition of IkBa')\n",
        "plt.xlabel('Amino Acid')\n",
        "plt.ylabel('Relative Frequency (%) ')\n",
        "plt. grid (True)\n",
        "plt. show()"
      ],
      "metadata": {
        "colab": {
          "base_uri": "https://localhost:8080/",
          "height": 333
        },
        "id": "gS34wK1qdDeg",
        "outputId": "36d16a81-951c-466e-bf54-02090092e266"
      },
      "execution_count": 81,
      "outputs": [
        {
          "output_type": "display_data",
          "data": {
            "text/plain": [
              "<Figure size 600x300 with 1 Axes>"
            ],
            "image/png": "[encoded data removed]"
          },
          "metadata": {}
        }
      ]
    },
    {
      "cell_type": "markdown",
      "source": [
        "**loacating** **motifs** **of** **ikba** **protein** -"
      ],
      "metadata": {
        "id": "Reu1LE1apRcJ"
      }
    },
    {
      "cell_type": "code",
      "source": [
        "def find_pest_like(seq): # PEST like motifs\n",
        "    return [(m.group(), m.start()) for m in re.finditer(r\"[PEST]{4,}\", seq)]\n",
        "\n",
        "pest_like = find_pest_like(sequence)\n",
        "print(\"PEST-like motifs:\", pest_like)"
      ],
      "metadata": {
        "colab": {
          "base_uri": "https://localhost:8080/",
          "height": 0
        },
        "id": "M4pC0x65gw5N",
        "outputId": "2e124f1c-92e8-41cf-c7af-f91e397c4ed9"
      },
      "execution_count": 63,
      "outputs": [
        {
          "output_type": "stream",
          "name": "stdout",
          "text": [
            "PEST-like motifs: [('PESE', 280), ('TESE', 290)]\n"
          ]
        }
      ]
    },
    {
      "cell_type": "code",
      "source": [
        "def find_ed_stretch(seq): # E/D rich motifs\n",
        "    return [(m.group(), m.start()) for m in re.finditer(r\"[ED]{3,}\", seq)]\n",
        "\n",
        "ed_stretch = find_ed_stretch(sequence)\n",
        "print(\"E/D-rich motifs:\", ed_stretch)"
      ],
      "metadata": {
        "colab": {
          "base_uri": "https://localhost:8080/",
          "height": 0
        },
        "id": "rZN8MAsXhRJv",
        "outputId": "c84cfb9e-d544-41df-b538-a4faabe23db2"
      },
      "execution_count": 64,
      "outputs": [
        {
          "output_type": "stream",
          "name": "stdout",
          "text": [
            "E/D-rich motifs: [('DEE', 38), ('EDEE', 283), ('EDE', 299)]\n"
          ]
        }
      ]
    },
    {
      "cell_type": "code",
      "source": [
        "#Ankyrin repeats based on conserved sequences\n",
        "def find_ankyrin_repeat_like(seq):\n",
        "    return [(m.group(), m.start()) for m in re.finditer(r\"[LIVM].{2}[GAS].{4}[DE].{3}[LIVM]\", seq)]\n",
        "\n",
        "ankyrin_like = find_ankyrin_repeat_like(sequence)\n",
        "print(\"Ankyrin-like motifs:\", ankyrin_like)"
      ],
      "metadata": {
        "colab": {
          "base_uri": "https://localhost:8080/",
          "height": 0
        },
        "id": "cChMYGZ3jIO8",
        "outputId": "42b8056c-d70f-4135-dd6b-04a920299b91"
      },
      "execution_count": 67,
      "outputs": [
        {
          "output_type": "stream",
          "name": "stdout",
          "text": [
            "Ankyrin-like motifs: []\n"
          ]
        }
      ]
    },
    {
      "cell_type": "code",
      "source": [
        "# Ankyrin domain recognition based on actual sequence\n",
        "ankyrin_domain = sequence[66:287]\n",
        "print(ankyrin_domain)"
      ],
      "metadata": {
        "colab": {
          "base_uri": "https://localhost:8080/",
          "height": 0
        },
        "id": "4j0-r2lykS5l",
        "outputId": "5a8dd05a-e31e-4897-cef1-e532cb311e7d"
      },
      "execution_count": 69,
      "outputs": [
        {
          "output_type": "stream",
          "name": "stdout",
          "text": [
            "KQQLTEDGDSFLHLAIIHEEKALTMEVIRQVKGDLAFLNFQNNLQQTPLHLAVITNQPEIAEALLGAGCDPELRDFRGNTPLHLACEQGCLASVGVLTQSCTTPHLHSILKATNYNGHTCLHLASIHGYLGIVELLVSLGADVNAQEPCNGRTALHLAVDLQNPDLVSLLLKCGADVNRVTYQGYSPYQLTWGRPSTRIQQQLGQLTLENLQMLPESEDEE\n"
          ]
        }
      ]
    },
    {
      "cell_type": "code",
      "source": [
        "def find_st_rich(seq): # S/T rich motifs\n",
        "    return [(m.group(), m.start()) for m in re.finditer(r\"[ST]{3,}\", seq)]\n",
        "\n",
        "st_motifs = find_st_rich(sequence)\n",
        "print(\"S/T-rich motifs (phosphorylation sites):\", st_motifs)"
      ],
      "metadata": {
        "colab": {
          "base_uri": "https://localhost:8080/",
          "height": 0
        },
        "id": "FHFi_YKFlbCr",
        "outputId": "53273e7b-5f7b-4b4c-8a06-3aecf8d743d8"
      },
      "execution_count": 71,
      "outputs": [
        {
          "output_type": "stream",
          "name": "stdout",
          "text": [
            "S/T-rich motifs (phosphorylation sites): []\n"
          ]
        }
      ]
    },
    {
      "cell_type": "code",
      "source": [
        "def find_proline_motifs(seq): # Porline rich motifs\n",
        "    return [(m.group(), m.start()) for m in re.finditer(r\"P.{1,2}P\", seq)]\n",
        "\n",
        "proline_motifs = find_proline_motifs(sequence)\n",
        "print(\"Proline-rich motifs (PXXP):\", proline_motifs)"
      ],
      "metadata": {
        "colab": {
          "base_uri": "https://localhost:8080/",
          "height": 0
        },
        "id": "bR0NqXcMlh2f",
        "outputId": "b0409157-3ff9-4a1c-b930-5df40e2676fb"
      },
      "execution_count": 72,
      "outputs": [
        {
          "output_type": "stream",
          "name": "stdout",
          "text": [
            "Proline-rich motifs (PXXP): []\n"
          ]
        }
      ]
    },
    {
      "cell_type": "code",
      "source": [
        "def find_rgg_motifs(seq): #RGG rich motifs\n",
        "    return [(m.group(), m.start()) for m in re.finditer(r\"[RG]{2,3}\", seq)]\n",
        "\n",
        "rgg_motifs = find_rgg_motifs(sequence)\n",
        "print(\"RGG/Arg-Gly-rich motifs:\", rgg_motifs)"
      ],
      "metadata": {
        "colab": {
          "base_uri": "https://localhost:8080/",
          "height": 0
        },
        "id": "13VdEze-lmAs",
        "outputId": "b0a3fd33-6ec6-4636-8705-9fb9654fb5f0"
      },
      "execution_count": 73,
      "outputs": [
        {
          "output_type": "stream",
          "name": "stdout",
          "text": [
            "RGG/Arg-Gly-rich motifs: [('RG', 60), ('RG', 142), ('GR', 216), ('GR', 258), ('GG', 310)]\n"
          ]
        }
      ]
    }
  ]
}